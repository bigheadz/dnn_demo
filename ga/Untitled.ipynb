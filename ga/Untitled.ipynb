{
 "cells": [
  {
   "cell_type": "code",
   "execution_count": 1,
   "metadata": {},
   "outputs": [],
   "source": [
    "import numpy as np\n",
    "from matplotlib import pyplot as plt"
   ]
  },
  {
   "cell_type": "code",
   "execution_count": 18,
   "metadata": {},
   "outputs": [
    {
     "data": {
      "image/png": "[encoded data removed]",
      "text/plain": [
       "<matplotlib.figure.Figure at 0x7f75b8b3ee48>"
      ]
     },
     "metadata": {},
     "output_type": "display_data"
    }
   ],
   "source": [
    "x = np.linspace(0, 3, 1000)\n",
    "# y =  2 / (1 + (np.e ** (-x))) - 1\n",
    "y = -2 / (1 + (np.e ** (-x))) + 2\n",
    "# f = 0.5\n",
    "# y = f * (1 - y / 10)\n",
    "plt.plot(x, y)\n",
    "plt.show()"
   ]
  },
  {
   "cell_type": "code",
   "execution_count": 22,
   "metadata": {},
   "outputs": [
    {
     "data": {
      "text/plain": [
       "1"
      ]
     },
     "execution_count": 22,
     "metadata": {},
     "output_type": "execute_result"
    }
   ],
   "source": [
    "a = {\"f\": 1, \"cost\": 2}\n",
    "a['f']"
   ]
  },
  {
   "cell_type": "code",
   "execution_count": 28,
   "metadata": {},
   "outputs": [
    {
     "name": "stdout",
     "output_type": "stream",
     "text": [
      "cost 2\n",
      "f 1\n"
     ]
    }
   ],
   "source": [
    "for key in a:\n",
    "    print(key, a[key])"
   ]
  },
  {
   "cell_type": "code",
   "execution_count": 56,
   "metadata": {
    "scrolled": false
   },
   "outputs": [
    {
     "name": "stdout",
     "output_type": "stream",
     "text": [
      "993,135.0,2.0,1.0,126.0,1.0,0.0,270.0,2.0,1.0,0.8998994603185201,0.0002234215153293917,53587.0\r\n",
      "994,168.0,2.0,1.0,105.0,1.0,0.0,255.0,0.0,0.0,0.8997712867783898,0.0005082516145193949,46039.0\r\n",
      "995,135.0,2.0,1.0,140.0,1.0,0.0,270.0,2.0,1.0,0.8998270068471743,0.00038442923323600553,59271.0\r\n",
      "996,168.0,2.0,1.0,120.0,1.0,1.0,300.0,0.0,0.0,0.8990910712474658,0.0020198423590045422,58369.0\r\n",
      "997,135.0,2.0,1.0,126.0,1.0,0.0,285.0,0.0,0.0,0.8998030732928379,0.0004376149117888417,54427.0\r\n",
      "998,150.0,2.0,1.0,105.0,1.0,0.0,255.0,0.0,0.0,0.8998658092083982,0.00029820176132488996,44041.0\r\n",
      "999,135.0,2.0,1.0,112.0,1.0,0.0,300.0,0.0,0.0,0.8998332239648325,0.0003706134157255292,50243.0\r\n",
      "1000,135.0,2.0,1.0,78.0,1.0,0.0,270.0,0.0,0.0,0.8996936724754117,0.0006807278587075416,33019.0\r\n",
      "1001,165.0,2.0,1.0,150.0,1.0,0.0,270.0,0.0,0.0,0.8996928737341552,0.0006825028394814581,66931.0\r\n",
      "1002,126.0,2.0,0.0,112.0,1.0,0.0,315.0,0.0,0.0,0.8985332392016205,0.0032594713266007602,50387.0\r\n"
     ]
    }
   ],
   "source": [
    "!tail ./linear_test_rna_fitness.csv"
   ]
  },
  {
   "cell_type": "code",
   "execution_count": null,
   "metadata": {},
   "outputs": [],
   "source": []
  }
 ],
 "metadata": {
  "kernelspec": {
   "display_name": "tf",
   "language": "python",
   "name": "tf"
  },
  "language_info": {
   "codemirror_mode": {
    "name": "ipython",
    "version": 3
   },
   "file_extension": ".py",
   "mimetype": "text/x-python",
   "name": "python",
   "nbconvert_exporter": "python",
   "pygments_lexer": "ipython3",
   "version": "3.5.2"
  }
 },
 "nbformat": 4,
 "nbformat_minor": 2
}
